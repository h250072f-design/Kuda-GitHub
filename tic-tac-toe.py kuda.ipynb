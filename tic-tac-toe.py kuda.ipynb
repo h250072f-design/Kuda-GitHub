{
 "cells": [
  {
   "cell_type": "code",
   "execution_count": null,
   "id": "316e8d0e-4408-4377-bcfc-1515e228ac18",
   "metadata": {},
   "outputs": [
    {
     "name": "stdout",
     "output_type": "stream",
     "text": [
      "\n",
      "| | | |\n",
      "| | | |\n",
      "| | | |\n",
      "\n"
     ]
    },
    {
     "name": "stdin",
     "output_type": "stream",
     "text": [
      "playerx, enter your move(1-9): 8\n"
     ]
    },
    {
     "name": "stdout",
     "output_type": "stream",
     "text": [
      "\n",
      "| | | |\n",
      "| | | |\n",
      "| |x| |\n",
      "\n"
     ]
    },
    {
     "name": "stdin",
     "output_type": "stream",
     "text": [
      "player0, enter your move(1-9): 4\n"
     ]
    },
    {
     "name": "stdout",
     "output_type": "stream",
     "text": [
      "\n",
      "| | | |\n",
      "|0| | |\n",
      "| |x| |\n",
      "\n"
     ]
    },
    {
     "name": "stdin",
     "output_type": "stream",
     "text": [
      "playerx, enter your move(1-9): 2\n"
     ]
    },
    {
     "name": "stdout",
     "output_type": "stream",
     "text": [
      "\n",
      "| |x| |\n",
      "|0| | |\n",
      "| |x| |\n",
      "\n"
     ]
    },
    {
     "name": "stdin",
     "output_type": "stream",
     "text": [
      "player0, enter your move(1-9): 2\n"
     ]
    },
    {
     "name": "stdout",
     "output_type": "stream",
     "text": [
      "invalid move,try again.\n",
      "\n",
      "| |x| |\n",
      "|0| | |\n",
      "| |x| |\n",
      "\n"
     ]
    },
    {
     "name": "stdin",
     "output_type": "stream",
     "text": [
      "player0, enter your move(1-9): 4\n"
     ]
    },
    {
     "name": "stdout",
     "output_type": "stream",
     "text": [
      "invalid move,try again.\n",
      "\n",
      "| |x| |\n",
      "|0| | |\n",
      "| |x| |\n",
      "\n"
     ]
    },
    {
     "name": "stdin",
     "output_type": "stream",
     "text": [
      "player0, enter your move(1-9): 1\n"
     ]
    },
    {
     "name": "stdout",
     "output_type": "stream",
     "text": [
      "\n",
      "|0|x| |\n",
      "|0| | |\n",
      "| |x| |\n",
      "\n"
     ]
    }
   ],
   "source": [
    "# a tic-tac-toe game in python\n",
    "board=[' ' for _ in range(9)]#Initialize the board with empty spaces\n",
    "\n",
    "def print_board():\n",
    "    row1='|{}|{}|{}|'.format(board[0],board[1],board[2])\n",
    "    row2='|{}|{}|{}|'.format(board[3],board[4],board[5])\n",
    "    row3='|{}|{}|{}|'.format(board[6],board[7],board[8])\n",
    "\n",
    "    print()\n",
    "    print(row1)\n",
    "    print(row2)\n",
    "    print(row3)\n",
    "    print()\n",
    "\n",
    "def check_win():\n",
    "    win_conditions=[(0,1,2),(3,4,5),(6,7,8),(0,3,6),(1,4,7),(2,5,8),(0,4,8),(2,4,6)]\n",
    "    for condition in win_conditions:\n",
    "        if board[condition[0]]==board[condition[1]]==board[condition[2]] !=' ':\n",
    "            return board[condition[0]]\n",
    "    if ' ' not in board:\n",
    "        return'tie'\n",
    "    return False\n",
    "\n",
    "\n",
    "def play_game():\n",
    "    current_player='x'\n",
    "    while True:\n",
    "        print_board ()\n",
    "        move=input(\"player{}, enter your move(1-9):\".format(current_player))\n",
    "        if board[int(move)-1]==' ':\n",
    "            board[int(move)-1]=current_player\n",
    "            result=check_win()\n",
    "            if result:\n",
    "                print_board()\n",
    "                if result=='tie':\n",
    "                    print(\"it's a tie!\")\n",
    "                else:\n",
    "                    print(\"player{}wins!congratulations!\".format,result)\n",
    "                break\n",
    "            current_player='0'if current_player=='x'else'x'\n",
    "        else:\n",
    "            print(\"invalid move,try again.\")\n",
    "\n",
    "play_game()\n",
    "        "
   ]
  },
  {
   "cell_type": "code",
   "execution_count": null,
   "id": "d5801cc0-fcc1-471a-aa6e-22ef2769548c",
   "metadata": {},
   "outputs": [],
   "source": []
  }
 ],
 "metadata": {
  "kernelspec": {
   "display_name": "Python [conda env:anaconda3]",
   "language": "python",
   "name": "conda-env-anaconda3-py"
  },
  "language_info": {
   "codemirror_mode": {
    "name": "ipython",
    "version": 3
   },
   "file_extension": ".py",
   "mimetype": "text/x-python",
   "name": "python",
   "nbconvert_exporter": "python",
   "pygments_lexer": "ipython3",
   "version": "3.13.5"
  }
 },
 "nbformat": 4,
 "nbformat_minor": 5
}
